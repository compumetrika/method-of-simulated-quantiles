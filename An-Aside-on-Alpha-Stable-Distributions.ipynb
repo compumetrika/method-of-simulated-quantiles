{
 "cells": [
  {
   "cell_type": "markdown",
   "metadata": {},
   "source": [
    "# An Aside on Alpha Stable Distributions\n",
    "\n",
    "\n",
    "Alpha-stable distributions are a fascinating family of distributions. Some basic practices of statistics like hypothesis testing likely wouldn't exist if there were no $\\alpha$-stable distributions (we'll see why as we continue). This notebook will serve as an extremely brief introduction and \"learning by doing\" exercise, particularly focused on Python implementations of this family of distributions. \n",
    "\n",
    "Whenever possible I will draw discussion from external (open) sources, and focus energy and time on code. \n",
    "\n",
    "## A Lightning Intro\n",
    "\n",
    "Let's start with a quick description [from wikipedia](https://en.wikipedia.org/wiki/Stable_distribution): \n",
    "\n",
    "> In probability theory, a distribution or a random variable is said to be stable if a linear combination of two independent copies of a random sample has the same distribution, up to location and scale parameters. The stable distribution family is also sometimes referred to as the Lévy alpha-stable distribution, after Paul Lévy, the first mathematician to have studied it.\n",
    "\n",
    "More description from U Huntsville's great [*Random* online notes](http://www.math.uah.edu/stat/), specifically the [stable distribution section](http://www.math.uah.edu/stat/special/Stable.html):\n",
    "\n",
    "> Stable distributions are an important general class of probability distributions on $\\mathbb{R}$ that are defined in terms of location-scale transformations. Stable distributions occur as limits (in distribution) of scaled and centered sums of independent, identically distributed variables. Such limits generalize the central limit theorem, and so stable distributions generalize the normal distribution in a sense. The pioneering work on stable distributions was done by Paul Lévy.\n",
    "\n",
    "> ...\n",
    "\n",
    "> Recall that two distributions on $\\mathbb{R}$ that are related by a location-scale transformation are said to be of the same type, and that being of the same type defines an equivalence relation on the class of distributions on $\\mathbb{R}$. With this terminology, the definition of stability has a more elegant expression: X has a stable distribution if the sum of a finite number of independent copies of X is of the same type as X.\n",
    "\n",
    "This family of distributions is defined by four parameters, which have a variety of different names depending on the text you reference. To be consistent with Dominicy and Veredas, I'll use the following:\n",
    "\n",
    "- $\\alpha \\in (0,2]$, is the \"tail index:\" it measures the thickness of tails of the distribution. \n",
    "    - Also called the \"characteristic index,\" \"stability index,\" or the first shape parameter.\n",
    "    - Governs existence of moments: $\\mathbb{E} \\left[ X^{p} \\right] \\lt \\infty \\textrm{, } \\forall p \\lt \\alpha$. \n",
    "    - Note this implies moments greater than 2 don't exist. (In fact it turns out that only the Normal distribution, a special case of the stable family, will have finite variance. Very interesting.) \n",
    "- $\\beta \\in [-1,1]$ is the \"skewness\" parameter. \n",
    "    - $\\beta < 0 \\rightarrow $ left-skewed (left-asymmetric), while $\\beta > 0 \\rightarrow $ right-skewed (right-asymmetric).   \n",
    "    - Also referred to as the second shape parameter.\n",
    "    - Note: as $\\alpha \\rightarrow 2, \\beta$ become unidentifies; for $\\alpha = 2$ the distribution is Normal and $\\beta$ is ignored. \n",
    "- $\\sigma \\in \\mathbb{R}^{+}$ is the \"scale\" or \"dispersion\" parameter\n",
    "- $\\mu \\in \\mathbb{R}$ is the location parameter\n",
    "\n",
    "\n",
    "An instance of this family may be denoted $S(\\alpha, \\beta, \\sigma, \\mu)$. Be careful about the last two $\\sigma$ and $\\mu$ parameters -- these do not correspond immediately to typical mean and variance. For example, for normal distribution special case, $2 \\sigma^{2}_{stable} = \\sigma^{2}_{normal}$.\n",
    "\n",
    "There are three special cases of the family of stable distributions:\n",
    "\n",
    "- Normal: $S(\\alpha=2, \\beta=NA, \\frac{\\sigma}{\\sqrt{2}}, \\mu) \\rightarrow \\mathscr{N}(\\mu, \\sigma^2)$\n",
    "- Cauchy: $S(\\alpha=1, \\beta=0, \\sigma, \\mu)$\n",
    "- Levy: $S(\\alpha=0.5, \\beta=1, \\sigma, \\mu)$\n",
    "\n",
    "\n",
    "\n",
    "Directly quoting Domicy and Veredas again: \n",
    "\n",
    "> \"A related property of the $\\alpha$-stable distribution is that it is a domain of attraction – this is often known as the Generalized Central Limit Theorem – which states that the only distribution that arises as limit from sums of i.i.d. random variables (suitably scaled and centered) is the $\\alpha$-stable distribution.\"\n",
    "\n",
    "Combine this with the observation that the Normal distribution is the only stable distribution with finite variance. May it be that many distributions we care about have no second moment? (This should be of particular interest to anyone wishing to use ABMs, which typically have convolutions of multiple distributions.)\n",
    " \n",
    "## Let's Play with Simulated Data\n",
    "\n",
    "Fortunately SciPy has a (somewhat limited) levy-stable distribution in the stats library. Let's test out the special cases of levy-stable. "
   ]
  },
  {
   "cell_type": "code",
   "execution_count": 1,
   "metadata": {
    "collapsed": false
   },
   "outputs": [],
   "source": [
    "# Import libraries\n",
    "from __future__ import print_function, division\n",
    "import scipy.stats as stats\n",
    "import pylab as plt\n",
    "import numpy as np"
   ]
  },
  {
   "cell_type": "code",
   "execution_count": 3,
   "metadata": {
    "collapsed": false
   },
   "outputs": [
    {
     "name": "stdout",
     "output_type": "stream",
     "text": [
      "mean: 0.014236791461\n",
      "stdev: 1.00867489694\n"
     ]
    },
    {
     "data": {
      "image/png": "[encoded data removed]",
      "text/plain": [
       "<matplotlib.figure.Figure at 0x7f98b1078a50>"
      ]
     },
     "metadata": {},
     "output_type": "display_data"
    }
   ],
   "source": [
    "# Let's draw some rvs from the gaussian special case, and compare to the \n",
    "# appropriate guassian from the stats library\n",
    "# Form: rvs(alpha, beta, loc=0, scale=1, size=1, random_state=None)\n",
    "n = 10000\n",
    "mu=0.0\n",
    "sigma=1.0\n",
    "gaussian_special_case_rvs = stats.levy_stable.rvs(alpha=2, beta=1, loc=mu, scale=sigma/np.sqrt(2), size=n)\n",
    "\n",
    "gaussian_mean = np.mean(gaussian_special_case_rvs)\n",
    "gaussian_std = np.std(gaussian_special_case_rvs)\n",
    "print(\"mean:\", gaussian_mean)\n",
    "print(\"stdev:\", gaussian_std)\n",
    "\n",
    "x_range = np.linspace(-4,4,1000)    #random.normal.rvs(loc=test_mean, scale=test_std)\n",
    "\n",
    "plt.hist(gaussian_special_case_rvs, bins=21, normed=True)\n",
    "plt.plot(x_range, stats.norm.pdf(x_range, loc=gaussian_mean, scale=gaussian_std) )\n",
    "plt.show()"
   ]
  },
  {
   "cell_type": "code",
   "execution_count": 4,
   "metadata": {
    "collapsed": false
   },
   "outputs": [
    {
     "name": "stdout",
     "output_type": "stream",
     "text": [
      "mean: 0.306210593497\n",
      "fraction vals < trimval=10:  0.9712\n"
     ]
    },
    {
     "data": {
      "image/png": "[encoded data removed]",
      "text/plain": [
       "<matplotlib.figure.Figure at 0x7f98ad7fee50>"
      ]
     },
     "metadata": {},
     "output_type": "display_data"
    }
   ],
   "source": [
    "# Let's look at a cauchy:\n",
    "cauchy_special_case_rvs = stats.levy_stable.rvs(alpha=1, beta=0, loc=mu, scale=sigma/2.0, size=n)\n",
    "\n",
    "cauchy_mean = np.mean(cauchy_special_case_rvs)\n",
    "#cauchy_std = np.std(cauchy_special_case_rvs)\n",
    "print(\"mean:\", cauchy_mean)\n",
    "#print(\"stdev:\", cauchy_std)\n",
    "\n",
    "#x_range = np.linspace(-4,4,1000)    #random.normal.rvs(loc=test_mean, scale=test_std)\n",
    "\n",
    "# Let's trim to look at in hist:\n",
    "trimval = 10\n",
    "trimndx =  abs(cauchy_special_case_rvs) < trimval\n",
    "print(\"fraction vals < trimval=\"+str(trimval)+ \": \",  sum(trimndx)/len(trimndx) )\n",
    "plot_rvs = cauchy_special_case_rvs[trimndx]\n",
    "\n",
    "x_range = np.linspace(-trimval,trimval,1000)\n",
    "\n",
    "plt.hist(plot_rvs, bins=51, normed=True)\n",
    "plt.plot(x_range, stats.cauchy.pdf(x_range, loc=mu, scale=sigma/2.0) )\n",
    "plt.show()"
   ]
  },
  {
   "cell_type": "code",
   "execution_count": 5,
   "metadata": {
    "collapsed": false
   },
   "outputs": [
    {
     "name": "stdout",
     "output_type": "stream",
     "text": [
      "mean: 98538.1572388\n",
      "fraction vals < trimval=10:  0.8156\n"
     ]
    },
    {
     "data": {
      "image/png": "[encoded data removed]",
      "text/plain": [
       "<matplotlib.figure.Figure at 0x7f98ad733710>"
      ]
     },
     "metadata": {},
     "output_type": "display_data"
    }
   ],
   "source": [
    "# Let's look at a Levy:\n",
    "levy_special_case_rvs = stats.levy_stable.rvs(alpha=0.5, beta=1.0, loc=mu, scale=sigma/2.0, size=n)\n",
    "\n",
    "levy_mean = np.mean(levy_special_case_rvs)\n",
    "print(\"mean:\", levy_mean)\n",
    "\n",
    "# Let's trim to look at in hist:\n",
    "trimval = 10\n",
    "trimndx =  abs(levy_special_case_rvs) < trimval\n",
    "print(\"fraction vals < trimval=\"+str(trimval)+ \": \",  sum(trimndx)/len(trimndx) )\n",
    "plot_rvs = levy_special_case_rvs[trimndx]\n",
    "\n",
    "x_range = np.linspace(0.0,trimval,1000)\n",
    "\n",
    "plt.hist(plot_rvs, bins=51, normed=True)\n",
    "plt.plot(x_range, stats.levy.pdf(x_range, loc=mu, scale=sigma/2.0) )\n",
    "plt.show()"
   ]
  },
  {
   "cell_type": "markdown",
   "metadata": {},
   "source": [
    "Excellent. Not shown: small perturbations of the $\\alpha, \\beta$ parameters show how the distributions \"move away\" from the special cases as the paramaterization moves away. \n",
    "\n",
    "Next steps: generate the data needed for the MSQ estimation experiments. \n",
    "\n",
    "\n",
    "## Notes:\n",
    "\n",
    "- [ ] Need to determine how to standardize sample when don't know norming parameters. \n",
    "    - specifically, need to querry about how to standardize.\n",
    "    - [x] NOTE: ASSUME that this is \"standard\" standardization. See if this replicates.\n",
    "- [ ] code two versions of the THETA function, and one THETAR function\n",
    "- [ ] generate a sample, normalize it, and run it through the THETAr funtion\n",
    "- [ ] then let's try this thing. "
   ]
  },
  {
   "cell_type": "markdown",
   "metadata": {},
   "source": [
    "# Additional Reading\n",
    "\n",
    "To explore further: \n",
    "\n",
    "- Mandelbrot and Taylor (1967), [On the Distribution of Stock Price Differences](http://pubsonline.informs.org/doi/abs/10.1287/opre.15.6.1057)\n",
    "- In R: https://cran.r-project.org/package=stabledist\n",
    "- The PyLevy package, with interesting information:\n",
    "    - http://www.logarithmic.net/pfh/pylevy\n",
    "    - https://github.com/josemiotto/pylevy\n",
    "- Notes from *Random* (formerly Virtual Laboratories in Probability and Statistics) at U. Huntsville on [stable distributions](http://www.math.uah.edu/stat/special/Stable.html)\n",
    "    - [special case: Levy](http://www.math.uah.edu/stat/special/Levy.html)\n",
    "    - [special case: Normal](http://www.math.uah.edu/stat/special/Normal.html)\n",
    "    - [special case: Cauchy](http://www.math.uah.edu/stat/special/Cauchy.html)\n",
    "    - See also their [home site](www.math.uah.edu/stat/) for more information on this great open resource. \n",
    "- [Recognition of stable distribution with Levy index alpha close to 2](https://arxiv.org/abs/1205.6458)\n",
    "- [Thayer Watkin's notes](http://www.sjsu.edu/faculty/watkins/mandel.htm)\n",
    "    - although note that 'peakedness' is probably [not quite](http://mathworld.wolfram.com/Kurtosis.html) the [correct term](https://www.ncbi.nlm.nih.gov/pmc/articles/PMC4321753/) for the first shape parameter\n",
    "    - note that Watkin's more extensive notes on many topics are interesting quick overviews.\n",
    "- Wolfram MathWorld [page on stable distributions](http://mathworld.wolfram.com/StableDistribution.html)\n",
    "- Mark Veillette's page on [alpha-stable distributions](http://math.bu.edu/people/mveillet/html/alphastablepub.html)\n",
    "- [Mathworks discussion](https://www.mathworks.com/help/stats/stable-distribution.html) of $\\alpha$-stable distributions\n",
    "- NIST handbook of stats: [skewness and kurtosis](http://www.itl.nist.gov/div898/handbook/eda/section3/eda35b.htm)"
   ]
  },
  {
   "cell_type": "code",
   "execution_count": 5,
   "metadata": {
    "collapsed": false
   },
   "outputs": [
    {
     "ename": "TypeError",
     "evalue": "_parse_args_rvs() got an unexpected keyword argument 'seed'",
     "output_type": "error",
     "traceback": [
      "\u001b[0;31m---------------------------------------------------------------------------\u001b[0m",
      "\u001b[0;31mTypeError\u001b[0m                                 Traceback (most recent call last)",
      "\u001b[0;32m<ipython-input-5-69c2b34142dc>\u001b[0m in \u001b[0;36m<module>\u001b[0;34m()\u001b[0m\n\u001b[1;32m      1\u001b[0m stats.levy_stable.rvs(alpha=1.2, beta=0.5, \n\u001b[0;32m----> 2\u001b[0;31m                                  loc=1, scale=1, size=(5,10), seed=1234)\n\u001b[0m",
      "\u001b[0;32m/home/npalmer/anaconda2/lib/python2.7/site-packages/scipy/stats/_distn_infrastructure.pyc\u001b[0m in \u001b[0;36mrvs\u001b[0;34m(self, *args, **kwds)\u001b[0m\n\u001b[1;32m    931\u001b[0m         \u001b[0mdiscrete\u001b[0m \u001b[0;34m=\u001b[0m \u001b[0mkwds\u001b[0m\u001b[0;34m.\u001b[0m\u001b[0mpop\u001b[0m\u001b[0;34m(\u001b[0m\u001b[0;34m'discrete'\u001b[0m\u001b[0;34m,\u001b[0m \u001b[0mNone\u001b[0m\u001b[0;34m)\u001b[0m\u001b[0;34m\u001b[0m\u001b[0m\n\u001b[1;32m    932\u001b[0m         \u001b[0mrndm\u001b[0m \u001b[0;34m=\u001b[0m \u001b[0mkwds\u001b[0m\u001b[0;34m.\u001b[0m\u001b[0mpop\u001b[0m\u001b[0;34m(\u001b[0m\u001b[0;34m'random_state'\u001b[0m\u001b[0;34m,\u001b[0m \u001b[0mNone\u001b[0m\u001b[0;34m)\u001b[0m\u001b[0;34m\u001b[0m\u001b[0m\n\u001b[0;32m--> 933\u001b[0;31m         \u001b[0margs\u001b[0m\u001b[0;34m,\u001b[0m \u001b[0mloc\u001b[0m\u001b[0;34m,\u001b[0m \u001b[0mscale\u001b[0m\u001b[0;34m,\u001b[0m \u001b[0msize\u001b[0m \u001b[0;34m=\u001b[0m \u001b[0mself\u001b[0m\u001b[0;34m.\u001b[0m\u001b[0m_parse_args_rvs\u001b[0m\u001b[0;34m(\u001b[0m\u001b[0;34m*\u001b[0m\u001b[0margs\u001b[0m\u001b[0;34m,\u001b[0m \u001b[0;34m**\u001b[0m\u001b[0mkwds\u001b[0m\u001b[0;34m)\u001b[0m\u001b[0;34m\u001b[0m\u001b[0m\n\u001b[0m\u001b[1;32m    934\u001b[0m         \u001b[0mcond\u001b[0m \u001b[0;34m=\u001b[0m \u001b[0mlogical_and\u001b[0m\u001b[0;34m(\u001b[0m\u001b[0mself\u001b[0m\u001b[0;34m.\u001b[0m\u001b[0m_argcheck\u001b[0m\u001b[0;34m(\u001b[0m\u001b[0;34m*\u001b[0m\u001b[0margs\u001b[0m\u001b[0;34m)\u001b[0m\u001b[0;34m,\u001b[0m \u001b[0;34m(\u001b[0m\u001b[0mscale\u001b[0m \u001b[0;34m>=\u001b[0m \u001b[0;36m0\u001b[0m\u001b[0;34m)\u001b[0m\u001b[0;34m)\u001b[0m\u001b[0;34m\u001b[0m\u001b[0m\n\u001b[1;32m    935\u001b[0m         \u001b[0;32mif\u001b[0m \u001b[0;32mnot\u001b[0m \u001b[0mnp\u001b[0m\u001b[0;34m.\u001b[0m\u001b[0mall\u001b[0m\u001b[0;34m(\u001b[0m\u001b[0mcond\u001b[0m\u001b[0;34m)\u001b[0m\u001b[0;34m:\u001b[0m\u001b[0;34m\u001b[0m\u001b[0m\n",
      "\u001b[0;31mTypeError\u001b[0m: _parse_args_rvs() got an unexpected keyword argument 'seed'"
     ]
    }
   ],
   "source": []
  },
  {
   "cell_type": "code",
   "execution_count": null,
   "metadata": {
    "collapsed": true
   },
   "outputs": [],
   "source": []
  }
 ],
 "metadata": {
  "kernelspec": {
   "display_name": "Python 2",
   "language": "python",
   "name": "python2"
  },
  "language_info": {
   "codemirror_mode": {
    "name": "ipython",
    "version": 2
   },
   "file_extension": ".py",
   "mimetype": "text/x-python",
   "name": "python",
   "nbconvert_exporter": "python",
   "pygments_lexer": "ipython2",
   "version": "2.7.13"
  }
 },
 "nbformat": 4,
 "nbformat_minor": 2
}

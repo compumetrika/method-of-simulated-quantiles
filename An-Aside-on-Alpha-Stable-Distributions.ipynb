{
 "cells": [
  {
   "cell_type": "markdown",
   "metadata": {},
   "source": [
    "# An Aside on Alpha Stable Distributions\n",
    "\n",
    "\n",
    "Alpha-stable distributions are a fascinating family of distributions, in the sense that basic \"practices of statistics\" like hypothesis testing wouldn't exist if there were no $\\alpha$-stable distributions (if I understand them correctly -- we'll see why as we continue). This notebook will serve as an extremely brief introduction and \"learning by doing\" exercise. The goal is to get a little familiarity with the distributions by \"laying hands on them\" and learning from some examples. \n",
    "\n",
    "Whenever possible I will draw discussion from external (open) sources, and focus energy and time on code. \n",
    "\n",
    "Let's start with a quick description [from wikipedia](https://en.wikipedia.org/wiki/Stable_distribution): \n",
    "\n",
    "> In probability theory, a distribution or a random variable is said to be stable if a linear combination of two independent copies of a random sample has the same distribution, up to location and scale parameters. The stable distribution family is also sometimes referred to as the Lévy alpha-stable distribution, after Paul Lévy, the first mathematician to have studied it.\n",
    "\n",
    "More description from U Huntsville's great [*Random* online notes](http://www.math.uah.edu/stat/), specifically the [stable distribution section](http://www.math.uah.edu/stat/special/Stable.html):\n",
    "\n",
    "> Stable distributions are an important general class of probability distributions on $\\mathbb{R}$ that are defined in terms of location-scale transformations. Stable distributions occur as limits (in distribution) of scaled and centered sums of independent, identically distributed variables. Such limits generalize the central limit theorem, and so stable distributions generalize the normal distribution in a sense. The pioneering work on stable distributions was done by Paul Lévy.\n",
    "\n",
    "> ...\n",
    "\n",
    "> Recall that two distributions on $\\mathbb{R}$ that are related by a location-scale transformation are said to be of the same type, and that being of the same type defines an equivalence relation on the class of distributions on $\\mathbb{R}$. With this terminology, the definition of stability has a more elegant expression: X has a stable distribution if the sum of a finite number of independent copies of X is of the same type as X.\n",
    "\n",
    "This family of distributions is defined by four parameters, which have a variety of different names depending on the text you reference. I'll use the following to be consistent with Dominicy and Veredas:\n",
    "\n",
    "- $\\alpha \\in (0,2]$, is the \"tail index:\" it measures the thickness of tails of the distribution. \n",
    "    - Also called the \"characteristic index,\" \"stability index,\" or the first shape parameter.\n",
    "    - Governs existence of moments: $\\mathbb{E} \\left[ X^{p} \\right] \\lt \\infty \\textrm{, } \\forall p \\lt \\alpha$. \n",
    "    - Note this implies moments greater than 2 don't exist. (In fact it turns out that only the Normal distribution, a special case of the stable family, will have finite variance. Very interesting.) \n",
    "- $\\beta \\in [-1,1]$ is the \"skewness\" parameter. \n",
    "    - $\\beta < 0 \\rightarrow $ left-skewed (left-asymmetric), while $\\beta > 0 \\rightarrow $ right-skewed (right-asymmetric).   \n",
    "    - Also referred to as the second shape parameter.\n",
    "    - Note: as $\\alpha \\rightarrow 2, \\beta$ become unidentifies; for $\\alpha = 2$ the distribution is Normal and $\\beta$ is ignored. \n",
    "- $\\sigma \\in \\mathbb{R}^{+}$ is the \"scale\" or \"dispersion\" parameter\n",
    "- $\\mu \\in \\mathbb{R}$ is the location parameter\n",
    "\n",
    "\n",
    "An instance of this family may be denoted $S(\\alpha, \\beta, \\sigma, \\mu)$. Be careful about the last two $\\sigma$ and $\\mu$ parameters -- these do not correspond immediately to typical mean and variance. \n",
    "\n",
    "There are three special cases of the family of stable distributions:\n",
    "\n",
    "- Normal: $S(\\alpha=2, \\beta=NA, \\sigma, \\mu)$\n",
    "- Cauchy: $S(\\alpha=1, \\beta=0, \\sigma, \\mu)$\n",
    "- Levy: $S(\\alpha=0.5, \\beta=1, \\sigma, \\mu)$\n",
    "\n",
    "\n",
    "\n",
    "Directly quoting Domicy and Veredas again: \n",
    "\n",
    "> \"A related property of the $\\alpha$-stable distribution is that it is a domain of attraction – this is often known as the Generalized Central Limit Theorem – which states that the only distribution that arises as limit from sums of i.i.d. random variables (suitably scaled and centered) is the $\\alpha$-stable distribution.\"\n",
    "\n",
    "Combine this with the observation that the Normal distribution is the only stable distribution with finite variance. May it be that many distributions we care about have no second moment? (This should be of particular interest to anyone wishing to use ABMs, which typically have convolutions of multiple distributions.)\n",
    " \n"
   ]
  },
  {
   "cell_type": "code",
   "execution_count": null,
   "metadata": {
    "collapsed": true
   },
   "outputs": [],
   "source": []
  },
  {
   "cell_type": "code",
   "execution_count": null,
   "metadata": {
    "collapsed": true
   },
   "outputs": [],
   "source": []
  },
  {
   "cell_type": "markdown",
   "metadata": {},
   "source": [
    "# Additional Reading\n",
    "\n",
    "To explore further: \n",
    "\n",
    "- Mandelbrot and Taylor (1967), [On the Distribution of Stock Price Differences](http://pubsonline.informs.org/doi/abs/10.1287/opre.15.6.1057)\n",
    "- In R: https://cran.r-project.org/package=stabledist\n",
    "- The PyLevy package, with interesting information:\n",
    "    - http://www.logarithmic.net/pfh/pylevy\n",
    "    - https://github.com/josemiotto/pylevy\n",
    "- Notes from *Random* (formerly Virtual Laboratories in Probability and Statistics) at U. Huntsville on [stable distributions](http://www.math.uah.edu/stat/special/Stable.html)\n",
    "    - [special case: Levy](http://www.math.uah.edu/stat/special/Levy.html)\n",
    "    - [special case: Normal](http://www.math.uah.edu/stat/special/Normal.html)\n",
    "    - [special case: Cauchy](http://www.math.uah.edu/stat/special/Cauchy.html)\n",
    "    - See also their [home site](www.math.uah.edu/stat/) for more information on this great open resource. \n",
    "- [Recognition of stable distribution with Levy index alpha close to 2](https://arxiv.org/abs/1205.6458)\n",
    "- [Thayer Watkin's notes](http://www.sjsu.edu/faculty/watkins/mandel.htm)\n",
    "    - although note that 'peakedness' is probably [not quite](http://mathworld.wolfram.com/Kurtosis.html) the [correct term](https://www.ncbi.nlm.nih.gov/pmc/articles/PMC4321753/) for the first shape parameter\n",
    "    - note that Watkin's more extensive notes on many topics are interesting quick overviews.\n",
    "- Wolfram MathWorld [page on stable distributions](http://mathworld.wolfram.com/StableDistribution.html)\n",
    "- Mark Veillette's page on [alpha-stable distributions](http://math.bu.edu/people/mveillet/html/alphastablepub.html)\n",
    "- [Mathworks discussion](https://www.mathworks.com/help/stats/stable-distribution.html) of $\\alpha$-stable distributions\n",
    "- NIST handbook of stats: [skewness and kurtosis](http://www.itl.nist.gov/div898/handbook/eda/section3/eda35b.htm)"
   ]
  },
  {
   "cell_type": "code",
   "execution_count": null,
   "metadata": {
    "collapsed": true
   },
   "outputs": [],
   "source": []
  }
 ],
 "metadata": {
  "kernelspec": {
   "display_name": "Python 2",
   "language": "python",
   "name": "python2"
  },
  "language_info": {
   "codemirror_mode": {
    "name": "ipython",
    "version": 2
   },
   "file_extension": ".py",
   "mimetype": "text/x-python",
   "name": "python",
   "nbconvert_exporter": "python",
   "pygments_lexer": "ipython2",
   "version": "2.7.13"
  }
 },
 "nbformat": 4,
 "nbformat_minor": 2
}

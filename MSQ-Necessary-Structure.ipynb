{
 "cells": [
  {
   "cell_type": "markdown",
   "metadata": {},
   "source": [
    "# MSQ: Necessary Structures\n",
    "\n",
    "This notebook outlines and creates the necessary code structures to implement the MSQ.\n",
    "\n",
    "NOTE: this code is written in Python 2.7.x, but all attempts are made to use Python3-compliant syntax. "
   ]
  },
  {
   "cell_type": "code",
   "execution_count": 1,
   "metadata": {
    "collapsed": true
   },
   "outputs": [],
   "source": [
    "# Import relevant libraries\n",
    "from __future__ import division, print_function\n",
    "import numpy as np"
   ]
  },
  {
   "cell_type": "markdown",
   "metadata": {},
   "source": [
    "The following is a very compact description of the method. See the authors' paper for a much more in-depth discussion. \n",
    "\n",
    "## Main Method Objects\n",
    "\n",
    "The key idea is that we define two objects: \n",
    "\n",
    "- a set of *quantiles* of some distribution, denote this $\\mathbf{q}$, of size $s$;\n",
    "- a set of *functions of quantiles*, which map a set of quantiles to a vector of reals. denote this $\\Phi$. \n",
    "\n",
    "This skips a lot of details. For example:\n",
    "\n",
    "- the above set of quantiles and function of quantiles should be thought of as being applied to a *vector* of random variables of length $J$. \n",
    "- For each $j$ random variable, the functions of quantiles should produce a vector of length $M$. Thus the total number of elements in the final vector of reals will be $JM$.\n",
    "\n",
    "That said, I will use the minimal notation needed to describe the process, and use an example to explore and illustate the details of the process. \n",
    "\n",
    "Assume we have two things: \n",
    "\n",
    "1. A set of M vectors of emperical realizations of the DGP we are trying to fit -- i.e. empirical distributions drawn from the true unknown DGP\n",
    "    - call these the \"empirical\" values\n",
    "    - denote empirical quantiles of these data $\\hat{\\mathbf{q}}$\n",
    "    - denote empirical functions of these quantiles $\\hat{\\Phi}_j$\n",
    "2. A parameterized, simulation-based DGP, from which we can simulate draws conditional on a parameter $\\theta$, \n",
    "    - call these the \"theoretical\" values\n",
    "    - denote theoretical quantiles of these data $\\mathbf{q}_{\\theta}$\n",
    "    - denote theoretical functions of these quantiles $\\Phi_{\\theta, j}$\n",
    "\n",
    "\n",
    "We will explore this in more detail in the example below. \n",
    "\n",
    "To fit the theoretical model to the empirical data, choose the parameter $\\theta$ to minimize the following quadratic objective function:\n",
    "\n",
    "$$\n",
    "\\hat{\\theta} = \\underset{\\theta \\in \\Theta}{\\textrm{argmin}} \\; \\left(\\hat{\\mathbf{\\Phi}} -  \\mathbf{\\Phi}_{\\theta}\\right)^{\\textrm{T}} \\mathbf{W}_{\\theta} \\left(\\hat{\\mathbf{\\Phi}} -  \\mathbf{\\Phi}_{\\theta}\\right).\n",
    "$$\n",
    "\n",
    "Here $\\mathbf{W}_{\\theta}$ is a symmetric positive definite weighting matrix.\n",
    "\n",
    "In addition, the bolded $\\Phi$ values are defined as the \"stacked\" vectors, for each of the $J$ random variables:\n",
    "\n",
    "$$\n",
    "\\mathbf{\\Phi} = \\left(\\Phi_{1}^{\\textrm{T}}, \\Phi_{2}^{\\textrm{T}}, ..., \\Phi_{j}^{\\textrm{T}}, ..., \\Phi_{J}^{\\textrm{T}} \\right)^{\\textrm{T}}\n",
    "$$\n",
    "\n",
    "\n",
    "for both $\\hat{\\Phi}$ and $\\Phi_{\\theta}$."
   ]
  },
  {
   "cell_type": "markdown",
   "metadata": {
    "collapsed": true
   },
   "source": [
    "## Illustration By Example\n",
    "\n",
    "We'll use the example of the $\\alpha$-stable distribution to demonstrate the estimation method."
   ]
  },
  {
   "cell_type": "code",
   "execution_count": null,
   "metadata": {
    "collapsed": true
   },
   "outputs": [],
   "source": []
  }
 ],
 "metadata": {
  "kernelspec": {
   "display_name": "Python 2",
   "language": "python",
   "name": "python2"
  },
  "language_info": {
   "codemirror_mode": {
    "name": "ipython",
    "version": 2
   },
   "file_extension": ".py",
   "mimetype": "text/x-python",
   "name": "python",
   "nbconvert_exporter": "python",
   "pygments_lexer": "ipython2",
   "version": "2.7.13"
  }
 },
 "nbformat": 4,
 "nbformat_minor": 2
}

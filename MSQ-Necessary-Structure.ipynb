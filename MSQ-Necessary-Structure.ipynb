{
 "cells": [
  {
   "cell_type": "markdown",
   "metadata": {},
   "source": [
    "# MSQ: Necessary Structures\n",
    "\n",
    "This notebook outlines and creates the necessary code structures to implement the MSQ.\n",
    "\n",
    "NOTE: this code is written in Python 2.7.x, but all attempts are made to use Python3-compliant syntax. "
   ]
  },
  {
   "cell_type": "code",
   "execution_count": 1,
   "metadata": {
    "collapsed": true
   },
   "outputs": [],
   "source": [
    "# Import relevant libraries\n",
    "from __future__ import division, print_function\n",
    "import numpy as np"
   ]
  },
  {
   "cell_type": "markdown",
   "metadata": {},
   "source": [
    "The following is a very compact description of the method. See the authors' paper for a much more in-depth discussion. \n",
    "\n",
    "The key idea is that we define two objects: \n",
    "\n",
    "- a set of *quantiles* of some distribution, denote this $\\hat{q}$;\n",
    "- a set of *functions of quantiles*, which map a set of quantiles to a vector of reals. denote this $\\hat{\\Phi}$. \n",
    "\n",
    "\n"
   ]
  },
  {
   "cell_type": "code",
   "execution_count": null,
   "metadata": {
    "collapsed": true
   },
   "outputs": [],
   "source": []
  }
 ],
 "metadata": {
  "kernelspec": {
   "display_name": "Python 2",
   "language": "python",
   "name": "python2"
  },
  "language_info": {
   "codemirror_mode": {
    "name": "ipython",
    "version": 2
   },
   "file_extension": ".py",
   "mimetype": "text/x-python",
   "name": "python",
   "nbconvert_exporter": "python",
   "pygments_lexer": "ipython2",
   "version": "2.7.13"
  }
 },
 "nbformat": 4,
 "nbformat_minor": 2
}

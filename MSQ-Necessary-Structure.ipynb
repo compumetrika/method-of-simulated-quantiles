{
 "cells": [
  {
   "cell_type": "markdown",
   "metadata": {},
   "source": [
    "# MSQ: Necessary Structures\n",
    "\n",
    "This notebook outlines and creates the necessary code structures to implement the MSQ.\n",
    "\n",
    "NOTE: this code is written in Python 2.7.x, but all attempts are made to use Python3-compliant syntax. "
   ]
  },
  {
   "cell_type": "code",
   "execution_count": 1,
   "metadata": {
    "collapsed": true
   },
   "outputs": [],
   "source": [
    "# Import relevant libraries\n",
    "from __future__ import division, print_function\n",
    "import numpy as np"
   ]
  },
  {
   "cell_type": "markdown",
   "metadata": {},
   "source": [
    "The following is a very compact description of the method. See the authors' paper for a much more in-depth discussion. \n",
    "\n",
    "## Main Method Objects\n",
    "\n",
    "The key idea is that we define two objects: \n",
    "\n",
    "- a set of *quantiles* of some distribution, denote this $\\mathbf{q}$, of size $s$;\n",
    "- a set of *functions of quantiles*, which map a set of quantiles to a vector of reals. denote this $\\Phi$. \n",
    "\n",
    "This skips a lot of details. For example:\n",
    "\n",
    "- the above set of quantiles and function of quantiles should be thought of as being applied to a *vector* of random variables of length $J$. \n",
    "- For each $j$ random variable, the functions of quantiles should produce a vector of length $M$. Thus the total number of elements in the final vector of reals will be $JM$.\n",
    "\n",
    "That said, I will use the minimal notation needed to describe the process, and use an example to explore and illustate the details of the process. \n",
    "\n",
    "Assume we have two things: \n",
    "\n",
    "1. A set of M vectors of emperical realizations of the DGP we are trying to fit -- i.e. empirical distributions drawn from the true unknown DGP\n",
    "    - call these the \"empirical\" values\n",
    "    - denote empirical quantiles of these data $\\hat{\\mathbf{q}}$\n",
    "    - denote empirical functions of these quantiles $\\hat{\\Phi}_j$\n",
    "2. A parameterized, simulation-based DGP, from which we can simulate draws conditional on a parameter $\\theta$, \n",
    "    - call these the \"theoretical\" values\n",
    "    - denote theoretical quantiles of these data $\\mathbf{q}_{\\theta}$\n",
    "    - denote theoretical functions of these quantiles $\\Phi_{\\theta, j}$\n",
    "\n",
    "\n",
    "We will explore this in more detail in the example below. \n",
    "\n",
    "To fit the theoretical model to the empirical data, choose the parameter $\\theta$ to minimize the following quadratic objective function:\n",
    "\n",
    "$$\n",
    "\\hat{\\theta} = \\underset{\\theta \\in \\Theta}{\\textrm{argmin}} \\; \\left(\\hat{\\mathbf{\\Phi}} -  \\mathbf{\\Phi}_{\\theta}\\right)^{\\textrm{T}} \\mathbf{W}_{\\theta} \\left(\\hat{\\mathbf{\\Phi}} -  \\mathbf{\\Phi}_{\\theta}\\right).\n",
    "$$\n",
    "\n",
    "Here $\\mathbf{W}_{\\theta}$ is a symmetric positive definite weighting matrix.\n",
    "\n",
    "In addition, the bolded $\\Phi$ values are defined as the \"stacked\" vectors, for each of the $J$ random variables:\n",
    "\n",
    "$$\n",
    "\\mathbf{\\Phi} = \\left(\\Phi_{1}^{\\textrm{T}}, \\Phi_{2}^{\\textrm{T}}, ..., \\Phi_{j}^{\\textrm{T}}, ..., \\Phi_{J}^{\\textrm{T}} \\right)^{\\textrm{T}}\n",
    "$$\n",
    "\n",
    "\n",
    "for both $\\hat{\\Phi}$ and $\\Phi_{\\theta}$."
   ]
  },
  {
   "cell_type": "markdown",
   "metadata": {
    "collapsed": true
   },
   "source": [
    "## Illustration By Example\n",
    "\n",
    "We'll use the example of the $\\alpha$-stable distribution to demonstrate the estimation method.\n",
    "\n",
    "As discussed in the notebook \"An Aside on Alpha Stable Distributions,\" the $\\alpha$-stable distribution is a four-parameter distribution denoted $S(\\alpha, \\beta, \\mu, \\sigma)$ where:\n",
    "\n",
    "- $\\alpha \\in (0,2]$, is the \"tail index:\" it measures the thickness of tails of the distribution. \n",
    "- $\\beta \\in [-1,1]$ is the \"skewness\" parameter. \n",
    "- $\\sigma \\in \\mathbb{R}^{+}$ is the \"scale\" or \"dispersion\" parameter\n",
    "- $\\mu \\in \\mathbb{R}$ is the location parameter\n",
    "\n",
    "There are three special cases of the family of stable distributions:\n",
    "\n",
    "- Normal: $S(\\alpha=2, \\beta=NA, \\frac{\\sigma}{\\sqrt{2}}, \\mu) \\rightarrow \\mathscr{N}(\\mu, \\sigma^2)$\n",
    "- Cauchy: $S(\\alpha=1, \\beta=0, \\sigma, \\mu)$\n",
    "- Levy: $S(\\alpha=0.5, \\beta=1, \\sigma, \\mu)$\n",
    "\n",
    "\n",
    "Importantly, the $\\alpha$ parameter governs whether moments of the distribution exist. For $X \\sim S(\\alpha, \\beta, \\mu, \\sigma)$:\n",
    "\n",
    "$$\\mathbb{E} \\left[ X^{p}\\right] \\lt \\infty \\; \\forall p \\lt \\alpha .$$\n",
    "\n",
    "\n",
    "We use a quantiles-based estimator defined by McCulloch (1986). \n",
    "\n",
    "Let's define the two functions of parameters: \n",
    "\n",
    "* The theoretical function of parameters, $\\Phi_{\\theta}$: \n",
    "\n",
    "$$\n",
    "\\Phi_{\\theta}=\\left(\n",
    "    \\begin{array}{c}\n",
    "        \\frac{ q_{0.95, \\theta} \\,-\\, q_{0.05, \\theta} } { q_{0.75, \\theta} \\,-\\, q_{0.25, \\theta} } \\\\\n",
    "        \\frac{ (q_{0.95, \\theta} \\,-\\, q_{0.5, \\theta}) \\,+\\, (q_{0.05, \\theta} \\,-\\, q_{0.5, \\theta}) } { q_{0.95, \\theta} \\,-\\, q_{0.05, \\theta} }  \\\\\n",
    "         (q_{0.75, \\theta} \\,-\\, q_{0.25, \\theta}) \\sigma \\\\\n",
    "         q_{0.5, \\theta} \\sigma + \\mu\n",
    "    \\end{array}\n",
    "    \\right)\n",
    "$$\n",
    "\n",
    "\n",
    "* The empirical function of parameters, $\\hat{\\Phi}$: \n",
    "\n",
    "$$\n",
    "\\hat{\\Phi}=\\left(\n",
    "    \\begin{array}{c}\n",
    "        \\frac{ \\hat{q}_{0.95} \\,-\\, \\hat{q}_{0.05} } { \\hat{q}_{0.75} \\,-\\, \\hat{q}_{0.25} } \\\\\n",
    "        \\frac{ (\\hat{q}_{0.95} \\,-\\, \\hat{q}_{0.5}) \\,+\\, (\\hat{q}_{0.05} \\,-\\, \\hat{q}_{0.5}) } { \\hat{q}_{0.95} \\,-\\, \\hat{q}_{0.05} }  \\\\\n",
    "         (\\hat{q}_{0.75} \\,-\\, \\hat{q}_{0.25}) \\\\\n",
    "         \\hat{q}_{0.5}\n",
    "    \\end{array}\n",
    "    \\right)\n",
    "$$\n",
    "\n",
    "\n",
    "Dominicy and Verdas (2013) follow McCulloch (1986) and standardize the empirical data which comprises $\\hat{\\Phi}$, and thus additionally standardize the theoretical measurements. \n",
    "\n",
    "The theoretical function of parameters $\\Phi_{\\theta}$ is obtained by drawing a simulated sample of data from the distribution implied by $\\theta$, which we will denote as $\\overset{\\sim}{\\Phi}_{\\theta}$.\n",
    "\n",
    "Finally, to represent $\\Phi_{\\theta}$ we draw $R$ simulation paths and find the average value: \n",
    "\n",
    "$$\n",
    "\\overset{\\sim}{\\Phi}_{\\theta}^{R} = \\frac{1}{R}\\sum_{r=1}^{R} \\overset{\\sim}{\\Phi}_{\\theta}^{r}.\n",
    "$$\n",
    "\n",
    "We find the $\\hat{\\theta}$ by minimizing the quadratic objective: \n",
    "\n",
    "$$\n",
    "\\hat{\\theta} = \\underset{\\theta \\in \\Theta}{\\textrm{argmin}} \\; \\left(\\hat{\\mathbf{\\Phi}} - \\mathbf{\\overset{\\sim}{\\Phi}}_{\\theta}^{R} \\right)^{\\textrm{T}} \\mathbf{W}_{\\theta} \\left(\\hat{\\mathbf{\\Phi}} -  \\mathbf{\\overset{\\sim}{\\Phi}}_{\\theta}^{R}\\right).\n",
    "$$\n",
    "\n"
   ]
  },
  {
   "cell_type": "code",
   "execution_count": null,
   "metadata": {
    "collapsed": true
   },
   "outputs": [],
   "source": []
  },
  {
   "cell_type": "code",
   "execution_count": null,
   "metadata": {
    "collapsed": true
   },
   "outputs": [],
   "source": []
  },
  {
   "cell_type": "code",
   "execution_count": null,
   "metadata": {
    "collapsed": true
   },
   "outputs": [],
   "source": []
  },
  {
   "cell_type": "markdown",
   "metadata": {},
   "source": [
    "# Appendix A: Next Extension\n",
    "\n",
    "Extensions:\n",
    "\n",
    "- Weighted empirical data."
   ]
  },
  {
   "cell_type": "code",
   "execution_count": null,
   "metadata": {
    "collapsed": true
   },
   "outputs": [],
   "source": []
  }
 ],
 "metadata": {
  "kernelspec": {
   "display_name": "Python 2",
   "language": "python",
   "name": "python2"
  },
  "language_info": {
   "codemirror_mode": {
    "name": "ipython",
    "version": 2
   },
   "file_extension": ".py",
   "mimetype": "text/x-python",
   "name": "python",
   "nbconvert_exporter": "python",
   "pygments_lexer": "ipython2",
   "version": "2.7.13"
  }
 },
 "nbformat": 4,
 "nbformat_minor": 2
}
